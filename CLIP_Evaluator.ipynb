{
  "cells": [
    {
      "cell_type": "markdown",
      "metadata": {
        "colab_type": "text",
        "id": "view-in-github"
      },
      "source": [
        "<a href=\"https://colab.research.google.com/github/lowfuel/DiscoDiffusion-Warp-gobig/blob/lowfuel/CLIP_Evaluator.ipynb\" target=\"_parent\"><img src=\"https://colab.research.google.com/assets/colab-badge.svg\" alt=\"Open In Colab\"/></a>"
      ]
    },
    {
      "cell_type": "markdown",
      "metadata": {
        "id": "TitleTop"
      },
      "source": [
        "# CLIP Evaluator\n",
        "\n",
        "Please considering supporting me [Patreon](https://www.patreon.com/user?u=255893&fan_landing=true) to keep this notebook updated and improving. Thanks!\n",
        "\n",
        "This notebook allows you to provide some sample pieces of art, then have CLIP evaluate the images and tell you who it thinks the artist is.\n",
        "\n",
        "Please be sure to add the actual artist to the list if they aren't already there, and message me on Discord (lowfuel) if you have an artist I should add to the list.\n",
        "\n",
        "## How to interpret the results\n",
        "\n",
        "- If CLIP agrees that your artist created the images, you can be confident in using that artist's name in your prompts.\n",
        "- If CLIP disagrees, it means that some other artist (in our list) is generating a response that is more similar to your source art.\n",
        "-- This doesn't mean your artist is not well understood by CLIP, but it may mean that another artist (or artists) have a better representation in the models compared to yours.\n",
        "- If CLIP disagrees, and the artist it thinks made it is also a poor match, it could mean that there was no stong artistic recognition, but perhaps some other element of the image triggered a response."
      ]
    },
    {
      "cell_type": "markdown",
      "metadata": {
        "id": "CreditsChTop"
      },
      "source": [
        "### Credits & Changelog ⬇️"
      ]
    },
    {
      "cell_type": "markdown",
      "metadata": {
        "id": "Credits"
      },
      "source": [
        "#### Credits\n",
        "\n",
        "by Jason Hough (lowfuel)"
      ]
    },
    {
      "cell_type": "markdown",
      "metadata": {
        "id": "LicenseTop"
      },
      "source": [
        "#### License"
      ]
    },
    {
      "cell_type": "markdown",
      "metadata": {
        "id": "License"
      },
      "source": [
        "Licensed under the MIT License\n",
        "\n",
        "Copyright (c) 2022 Jason Hough \n",
        "\n",
        "Permission is hereby granted, free of charge, to any person obtaining a copy\n",
        "of this software and associated documentation files (the \"Software\"), to deal\n",
        "in the Software without restriction, including without limitation the rights\n",
        "to use, copy, modify, merge, publish, distribute, sublicense, and/or sell\n",
        "copies of the Software, and to permit persons to whom the Software is\n",
        "furnished to do so, subject to the following conditions:\n",
        "\n",
        "The above copyright notice and this permission notice shall be included in\n",
        "all copies or substantial portions of the Software.\n",
        "\n",
        "THE SOFTWARE IS PROVIDED \"AS IS\", WITHOUT WARRANTY OF ANY KIND, EXPRESS OR\n",
        "IMPLIED, INCLUDING BUT NOT LIMITED TO THE WARRANTIES OF MERCHANTABILITY,\n",
        "FITNESS FOR A PARTICULAR PURPOSE AND NONINFRINGEMENT. IN NO EVENT SHALL THE\n",
        "AUTHORS OR COPYRIGHT HOLDERS BE LIABLE FOR ANY CLAIM, DAMAGES OR OTHER\n",
        "LIABILITY, WHETHER IN AN ACTION OF CONTRACT, TORT OR OTHERWISE, ARISING FROM,\n",
        "OUT OF OR IN CONNECTION WITH THE SOFTWARE OR THE USE OR OTHER DEALINGS IN\n",
        "THE SOFTWARE."
      ]
    },
    {
      "cell_type": "markdown",
      "metadata": {
        "id": "SetupTop"
      },
      "source": [
        "# 1. Set Up"
      ]
    },
    {
      "cell_type": "code",
      "execution_count": null,
      "metadata": {
        "cellView": "form",
        "id": "CheckGPU"
      },
      "outputs": [],
      "source": [
        "#@title 1.1 Check GPU Status\n",
        "#@markdown Note: Works fine without GPU (just a bit slow)\n",
        "import subprocess\n",
        "simple_nvidia_smi_display = True#@param {type:\"boolean\"}\n",
        "if simple_nvidia_smi_display:\n",
        "  #!nvidia-smi\n",
        "  nvidiasmi_output = subprocess.run(['nvidia-smi', '-L'], stdout=subprocess.PIPE).stdout.decode('utf-8')\n",
        "  print(nvidiasmi_output)\n",
        "else:\n",
        "  #!nvidia-smi -i 0 -e 0\n",
        "  nvidiasmi_output = subprocess.run(['nvidia-smi'], stdout=subprocess.PIPE).stdout.decode('utf-8')\n",
        "  print(nvidiasmi_output)\n",
        "  nvidiasmi_ecc_note = subprocess.run(['nvidia-smi', '-i', '0', '-e', '0'], stdout=subprocess.PIPE).stdout.decode('utf-8')\n",
        "  print(nvidiasmi_ecc_note)"
      ]
    },
    {
      "cell_type": "code",
      "execution_count": null,
      "metadata": {
        "cellView": "form",
        "id": "PrepFolders"
      },
      "outputs": [],
      "source": [
        "#@title 1.2 Prepare Folders\n",
        "import subprocess, os, sys, ipykernel\n",
        "\n",
        "def gitclone(url):\n",
        "  res = subprocess.run(['git', 'clone', url], stdout=subprocess.PIPE).stdout.decode('utf-8')\n",
        "  print(res)\n",
        "\n",
        "def pipi(modulestr):\n",
        "  res = subprocess.run(['pip', 'install', modulestr], stdout=subprocess.PIPE).stdout.decode('utf-8')\n",
        "  print(res)\n",
        "\n",
        "def pipie(modulestr):\n",
        "  res = subprocess.run(['git', 'install', '-e', modulestr], stdout=subprocess.PIPE).stdout.decode('utf-8')\n",
        "  print(res)\n",
        "\n",
        "def wget(url, outputdir):\n",
        "  res = subprocess.run(['wget', url, '-P', f'{outputdir}'], stdout=subprocess.PIPE).stdout.decode('utf-8')\n",
        "  print(res)\n",
        "\n",
        "import os\n",
        "\n",
        "try:\n",
        "    from google.colab import drive\n",
        "    print(\"Google Colab detected. Using Google Drive.\")\n",
        "    is_colab = True\n",
        "    #@markdown If you connect your Google Drive, you can save the final image of each run on your drive.\n",
        "    google_drive = True #@param {type:\"boolean\"}\n",
        "    #@markdown Click here if you'd like to save the diffusion model checkpoint file to (and/or load from) your Google Drive:\n",
        "    save_models_to_google_drive = True #@param {type:\"boolean\"}\n",
        "except:\n",
        "    is_colab = False\n",
        "    google_drive = False\n",
        "    save_models_to_google_drive = False\n",
        "    print(\"Google Colab not detected.\")\n",
        "\n",
        "if is_colab:\n",
        "    if google_drive is True:\n",
        "        drive.mount('/content/drive')\n",
        "        root_path = '/content/drive/MyDrive/AI/Disco_Diffusion'\n",
        "    else:\n",
        "        root_path = '/content'\n",
        "else:\n",
        "    root_path = os.getcwd()\n",
        "\n",
        "import os\n",
        "def createPath(filepath):\n",
        "    os.makedirs(filepath, exist_ok=True)\n",
        "\n",
        "initDirPath = f'{root_path}/init_images'\n",
        "createPath(initDirPath)\n",
        "outDirPath = f'{root_path}/images_out'\n",
        "createPath(outDirPath)\n",
        "\n",
        "if is_colab:\n",
        "    if google_drive and not save_models_to_google_drive or not google_drive:\n",
        "        model_path = '/content/models'\n",
        "        createPath(model_path)\n",
        "    if google_drive and save_models_to_google_drive:\n",
        "        model_path = f'{root_path}/models'\n",
        "        createPath(model_path)\n",
        "else:\n",
        "    model_path = f'{root_path}/models'\n",
        "    createPath(model_path)\n",
        "\n",
        "if os.path.exists(f\"{root_path}/prompts.txt\"):\n",
        "  os.remove(f\"{root_path}/prompts.txt\")\n",
        "\n",
        "wget(\"https://raw.githubusercontent.com/lowfuel/DiscoDiffusion-Warp-gobig/lowfuel/prompts.txt\", root_path)\n",
        "\n",
        "def createPath(filepath):\n",
        "    os.makedirs(filepath, exist_ok=True)\n"
      ]
    },
    {
      "cell_type": "code",
      "execution_count": null,
      "metadata": {
        "cellView": "form",
        "id": "InstallDeps"
      },
      "outputs": [],
      "source": [
        "#@title ### 1.3 Install and import dependencies\n",
        "\n",
        "import pathlib, shutil, sys\n",
        "\n",
        "PROJECT_DIR = os.path.abspath(os.getcwd())\n",
        "\n",
        "multipip_res = subprocess.run(['pip', 'install', 'lpips', 'datetime', 'timm', 'ftfy', 'einops', 'pytorch-lightning', 'omegaconf' ], stdout=subprocess.PIPE).stdout.decode('utf-8')\n",
        "print(multipip_res)\n",
        "\n",
        "import os\n",
        "from os import path\n",
        "import sys\n",
        "\n",
        "from google.colab import files\n",
        "\n",
        "from attr import has\n",
        "from numpy import average\n",
        "import torch\n",
        "from torch import nn\n",
        "import ipywidgets as widgets\n",
        "from IPython import display\n",
        "import requests\n",
        "try:\n",
        "  from CLIP import clip\n",
        "except:\n",
        "  if not os.path.exists(\"CLIP\"):\n",
        "    gitclone(\"https://github.com/openai/CLIP\")\n",
        "  sys.path.append(f'{PROJECT_DIR}/CLIP')\n",
        "  from CLIP import clip\n",
        "import gc\n",
        "from statistics import mean\n",
        "from PIL import Image, ImageOps\n",
        "import urllib.request, urllib.error, urllib.parse\n",
        "from itertools import chain, islice\n",
        "\n",
        "DEVICE = torch.device('cuda:0' if torch.cuda.is_available() else 'cpu')\n",
        "print('Using device:', DEVICE)\n",
        "device = DEVICE # At least one of the modules expects this name..\n",
        "\n",
        "if 'cuda' in str(device):\n",
        "  if torch.cuda.get_device_capability(DEVICE) == (8,0): ## A100 fix thanks to Emad\n",
        "    print('Disabling CUDNN for A100 gpu', file=sys.stderr)\n",
        "    torch.backends.cudnn.enabled = False\n"
      ]
    },
    {
      "cell_type": "markdown",
      "metadata": {
        "id": "DiffClipSetTop"
      },
      "source": [
        "# 2. Select your CLIP models\n",
        "\n",
        "Selecting them all is fine, but might take a while."
      ]
    },
    {
      "cell_type": "code",
      "execution_count": null,
      "metadata": {
        "cellView": "form",
        "id": "ModelSettings"
      },
      "outputs": [],
      "source": [
        "ViTB32 = True #@param{type:\"boolean\"}\n",
        "ViTB16 = True #@param{type:\"boolean\"}\n",
        "ViTL14 = True #@param{type:\"boolean\"}\n",
        "ViTL14_336 = True #@param{type:\"boolean\"}\n",
        "RN101 = True #@param{type:\"boolean\"}\n",
        "RN50 = True #@param{type:\"boolean\"}\n",
        "RN50x4 = True #@param{type:\"boolean\"}\n",
        "RN50x16 = True #@param{type:\"boolean\"}\n",
        "RN50x64 = True #@param{type:\"boolean\"}"
      ]
    },
    {
      "cell_type": "markdown",
      "metadata": {
        "id": "DiffuseTop"
      },
      "source": [
        "# 3. Enter prompt and select sample images"
      ]
    },
    {
      "cell_type": "code",
      "execution_count": null,
      "metadata": {
        "id": "vXJ-N_kH1u7C"
      },
      "outputs": [],
      "source": [
        "#@markdown Which artist would you like to test? Enter their name first, then \"run\" this section and upload a sample\n",
        "#@markdown Note: If you don't know their name and just want to see who CLIP matches to this sample, enter a fake name\n",
        "evalprompt = \"Peter Mohrbacher\" #@param{type:\"string\"}\n",
        "\n",
        "#@markdown Upload a sample after the button appears:\n",
        "uploaded = files.upload()"
      ]
    },
    {
      "cell_type": "markdown",
      "metadata": {},
      "source": [
        "# 4. RESULTS"
      ]
    },
    {
      "cell_type": "code",
      "execution_count": null,
      "metadata": {},
      "outputs": [],
      "source": [
        "modellist = []\n",
        "if RN50x64 == True: modellist.append('RN50x64')\n",
        "if ViTB16 == True: modellist.append('ViT-B/16')\n",
        "if ViTL14 == True: modellist.append('ViT-L/14')\n",
        "if ViTL14_336 == True: modellist.append('ViT-L/14@336px')\n",
        "if RN50 == True: modellist.append('RN50')\n",
        "if RN50x4 == True: modellist.append('RN50x4')\n",
        "if RN50x16 == True: modellist.append('RN50x16')\n",
        "if ViTB32 == True: modellist.append('ViT-B/32')\n",
        "if RN101 == True: modellist.append('RN101')\n",
        "\n",
        "def load_clip_model(model_name):\n",
        "    model, preprocess = clip.load(model_name, jit=False, download_root=model_path,device=device)\n",
        "    return model, preprocess\n",
        "\n",
        "def clipit_text(prompt, model):\n",
        "    text = model.encode_text(clip.tokenize(prompt).to(device)).float()\n",
        "    return text\n",
        "\n",
        "def clipit_image(im_prompt, model):\n",
        "    image = model.encode_image(im_prompt.to(device)).float()\n",
        "    return image\n",
        "\n",
        "def evalprompt_cos(t_prompt, t_comp):\n",
        "    #Get similarity between two tensors\n",
        "    cos = nn.CosineSimilarity(dim=1, eps=1e-6)\n",
        "    t_con = cos(t_prompt, t_comp)\n",
        "    similarity = t_con.item()\n",
        "    return similarity\n",
        "\n",
        "def match_prompts_to_image(image, prompts, model):\n",
        "    t_prompts = clip.tokenize(prompts).to(device)\n",
        "    with torch.no_grad():\n",
        "        prompt_features = model.encode_text(t_prompts)\n",
        "        image_features = model.encode_image(image)\n",
        "    with torch.no_grad():\n",
        "        logits_per_image, logits_per_text = model(image, t_prompts)\n",
        "        probs = logits_per_image.softmax(dim=-1).cpu().numpy()\n",
        "    return probs\n",
        "\n",
        "def Average(lst):\n",
        "    return sum(lst) / len(lst)\n",
        "\n",
        "def loadprompts(textfile):\n",
        "    prompts = []\n",
        "    with open(textfile, encoding=\"utf-8\") as f:\n",
        "        for line in f:\n",
        "            prompts.append(line.strip())\n",
        "    return(prompts)\n",
        "    \n",
        "def scoreprompts(evalprompt, images, prompts, modelname):\n",
        "    model, preprocess = load_clip_model(modelname)\n",
        "    scores = []\n",
        "    #print(images[0])\n",
        "    test_image = preprocess(Image.open(images[0])).unsqueeze(0).to(device)\n",
        "    probabilities = match_prompts_to_image(test_image, prompts, model)\n",
        "    problist = (probabilities.tolist())[0]\n",
        "    for count, prompt in enumerate(prompts):\n",
        "        prob = round(problist[count], 4)\n",
        "        if prob > 0.03 or prompt == evalprompt:\n",
        "            scores.append((prompt, prob))\n",
        "            #print(f'Probability: {prompt} - {prob}')\n",
        "    return scores\n",
        "\n",
        "images = []\n",
        "for fn in uploaded.keys():\n",
        "    images.append(fn)\n",
        "\n",
        "prescript = \"by\"\n",
        "postscript = \"art\"\n",
        "\n",
        "print(f'Sample image by {evalprompt}\\n')\n",
        "#print(images)\n",
        "\n",
        "raw_prompts = loadprompts((f\"{root_path}/prompts.txt\"))\n",
        "prompts = []\n",
        "post_prompts = []\n",
        "for prompt in raw_prompts:\n",
        "    prompts.append(prescript + \" \" + prompt)\n",
        "\n",
        "for prompt in raw_prompts:\n",
        "    post_prompts.append(prompt + \" \" + postscript)\n",
        "\n",
        "if (evalprompt) not in raw_prompts:\n",
        "    print('This is a new artist. Please let Lowfuel know so they can be added to the comparison list!')\n",
        "    prompts.append(prescript + \" \" + evalprompt)\n",
        "    post_prompts.append(evalprompt + \" \" + postscript)\n",
        "\n",
        "for image in images:\n",
        "    display.display(display.Image(fn))\n",
        "\n",
        "average = 0.0\n",
        "this_artist_score = []\n",
        "for modelname in modellist:\n",
        "    print(\"\")\n",
        "    print(f'{modelname} thinks this sample is:')\n",
        "    scores = scoreprompts((prescript + \" \" + evalprompt), images, prompts, modelname)\n",
        "    scores.sort(key=lambda a: a[1], reverse=True)\n",
        "    for score in scores:\n",
        "        name, percent = score\n",
        "        if name == (prescript + \" \" + evalprompt):\n",
        "            this_artist_score.append(percent)\n",
        "        print(f'   {name} (with {percent:.2%} certainty)')\n",
        "\n",
        "average = round(mean(this_artist_score),2)\n",
        "print('')\n",
        "print(f'Average CLIP recognition for {evalprompt} is {average:.2%}')\n",
        "\n",
        "average = 0.0\n",
        "this_artist_score = []\n",
        "for modelname in modellist:\n",
        "    print(\"\")\n",
        "    print(f'{modelname} thinks this sample is:')\n",
        "    scores = scoreprompts((evalprompt + \" \" + postscript), images, post_prompts, modelname)\n",
        "    scores.sort(key=lambda a: a[1], reverse=True)\n",
        "    for score in scores:\n",
        "        name, percent = score\n",
        "        if name == (evalprompt + \" \" + postscript):\n",
        "            this_artist_score.append(percent)\n",
        "        print(f'   {name} (with {percent:.2%} certainty)')\n",
        "\n",
        "average = round(mean(this_artist_score),2)\n",
        "print('')\n",
        "print(f'Average CLIP recognition for {evalprompt} is {average:.2%}')\n",
        "\n",
        "\"\"\"\n",
        "TODO:\n",
        "Provide sample by URL (and allow for up to 4?)\n",
        "Store artists average % recognized in the prompts file, read optionally\n",
        "After image comparison, run cos similiarity against the other artists for both image and prompt\n",
        "Provide final report (confidence, avg confidence, 4 similiar artists by image, 4 similar by text prompt, rec. clip models)\n",
        "Look into better formatting of output\n",
        "Use the batch iterable to ensure we don't hit any memory limit as the artist list grows\n",
        "\"\"\"\n"
      ]
    }
  ],
  "metadata": {
    "accelerator": "GPU",
    "anaconda-cloud": {},
    "colab": {
      "collapsed_sections": [
        "ChangelogTop"
      ],
      "include_colab_link": true,
      "machine_shape": "hm",
      "name": "Disco_Diffusion_v5_2_Warp_goBIG(1).ipynb",
      "private_outputs": true,
      "provenance": []
    },
    "kernelspec": {
      "display_name": "Python 3.10.1 64-bit",
      "language": "python",
      "name": "python3"
    },
    "language_info": {
      "codemirror_mode": {
        "name": "ipython",
        "version": 3
      },
      "file_extension": ".py",
      "mimetype": "text/x-python",
      "name": "python",
      "nbconvert_exporter": "python",
      "pygments_lexer": "ipython3",
      "version": "3.10.1"
    },
    "vscode": {
      "interpreter": {
        "hash": "41cfd7462e767a04782d864d1a2e49c18a9932c3602fb466c3d05cf6a056fe41"
      }
    }
  },
  "nbformat": 4,
  "nbformat_minor": 0
}
