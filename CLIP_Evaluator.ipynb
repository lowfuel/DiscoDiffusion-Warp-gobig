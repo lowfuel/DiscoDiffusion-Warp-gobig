{
  "cells": [
    {
      "cell_type": "markdown",
      "metadata": {
        "colab_type": "text",
        "id": "view-in-github"
      },
      "source": [
        "<a href=\"https://colab.research.google.com/github/lowfuel/DiscoDiffusion-Warp-gobig/blob/lowfuel/CLIP_Evaluator.ipynb\" target=\"_parent\"><img src=\"https://colab.research.google.com/assets/colab-badge.svg\" alt=\"Open In Colab\"/></a>"
      ]
    },
    {
      "cell_type": "markdown",
      "metadata": {
        "id": "TitleTop"
      },
      "source": [
        "# CLIP Evaluator\n",
        "\n",
        "Please considering supporting me [Patreon](https://www.patreon.com/user?u=255893&fan_landing=true) to keep this notebook updated and improving. Thanks!\n",
        "\n",
        "This notebook allows you to provide some sample pieces of art, then have CLIP evaluate the images and tell you who it thinks the artist is.\n",
        "\n",
        "Please be sure to add the actual artist to the list if they aren't already there, and message me on Discord (lowfuel) if you have an artist I should add to the list.\n",
        "\n",
        "## How to interpret the results\n",
        "\n",
        "- If CLIP agrees that your artist created the images, you can be confident in using that artist's name in your prompts.\n",
        "- If CLIP disagrees, it means that some other artist (in our list) is generating a response that is more similar to your source art.\n",
        "-- This doesn't mean your artist is not well understood by CLIP, but it may mean that another artist (or artists) have a better representation in the models compared to yours.\n",
        "- If CLIP disagrees, and the artist it thinks made it is also a poor match, it could mean that there was no stong artistic recognition, but perhaps some other element of the image triggered a response."
      ]
    },
    {
      "cell_type": "markdown",
      "metadata": {
        "id": "CreditsChTop"
      },
      "source": [
        "### Credits & Changelog ⬇️"
      ]
    },
    {
      "cell_type": "markdown",
      "metadata": {
        "id": "Credits"
      },
      "source": [
        "#### Credits\n",
        "\n",
        "by Jason Hough (lowfuel)"
      ]
    },
    {
      "cell_type": "markdown",
      "metadata": {
        "id": "LicenseTop"
      },
      "source": [
        "#### License"
      ]
    },
    {
      "cell_type": "markdown",
      "metadata": {
        "id": "License"
      },
      "source": [
        "Licensed under the MIT License\n",
        "\n",
        "Copyright (c) 2022 Jason Hough \n",
        "\n",
        "Permission is hereby granted, free of charge, to any person obtaining a copy\n",
        "of this software and associated documentation files (the \"Software\"), to deal\n",
        "in the Software without restriction, including without limitation the rights\n",
        "to use, copy, modify, merge, publish, distribute, sublicense, and/or sell\n",
        "copies of the Software, and to permit persons to whom the Software is\n",
        "furnished to do so, subject to the following conditions:\n",
        "\n",
        "The above copyright notice and this permission notice shall be included in\n",
        "all copies or substantial portions of the Software.\n",
        "\n",
        "THE SOFTWARE IS PROVIDED \"AS IS\", WITHOUT WARRANTY OF ANY KIND, EXPRESS OR\n",
        "IMPLIED, INCLUDING BUT NOT LIMITED TO THE WARRANTIES OF MERCHANTABILITY,\n",
        "FITNESS FOR A PARTICULAR PURPOSE AND NONINFRINGEMENT. IN NO EVENT SHALL THE\n",
        "AUTHORS OR COPYRIGHT HOLDERS BE LIABLE FOR ANY CLAIM, DAMAGES OR OTHER\n",
        "LIABILITY, WHETHER IN AN ACTION OF CONTRACT, TORT OR OTHERWISE, ARISING FROM,\n",
        "OUT OF OR IN CONNECTION WITH THE SOFTWARE OR THE USE OR OTHER DEALINGS IN\n",
        "THE SOFTWARE."
      ]
    },
    {
      "cell_type": "markdown",
      "metadata": {
        "id": "SetupTop"
      },
      "source": [
        "# 1. Set Up"
      ]
    },
    {
      "cell_type": "code",
      "execution_count": null,
      "metadata": {
        "cellView": "form",
        "id": "CheckGPU"
      },
      "outputs": [],
      "source": [
        "#@title 1.1 Check GPU Status\n",
        "import subprocess\n",
        "simple_nvidia_smi_display = True#@param {type:\"boolean\"}\n",
        "if simple_nvidia_smi_display:\n",
        "  #!nvidia-smi\n",
        "  nvidiasmi_output = subprocess.run(['nvidia-smi', '-L'], stdout=subprocess.PIPE).stdout.decode('utf-8')\n",
        "  print(nvidiasmi_output)\n",
        "else:\n",
        "  #!nvidia-smi -i 0 -e 0\n",
        "  nvidiasmi_output = subprocess.run(['nvidia-smi'], stdout=subprocess.PIPE).stdout.decode('utf-8')\n",
        "  print(nvidiasmi_output)\n",
        "  nvidiasmi_ecc_note = subprocess.run(['nvidia-smi', '-i', '0', '-e', '0'], stdout=subprocess.PIPE).stdout.decode('utf-8')\n",
        "  print(nvidiasmi_ecc_note)"
      ]
    },
    {
      "cell_type": "code",
      "execution_count": null,
      "metadata": {
        "cellView": "form",
        "id": "PrepFolders"
      },
      "outputs": [],
      "source": [
        "#@title 1.2 Prepare Folders\n",
        "import subprocess, os, sys, ipykernel\n",
        "\n",
        "def gitclone(url):\n",
        "  res = subprocess.run(['git', 'clone', url], stdout=subprocess.PIPE).stdout.decode('utf-8')\n",
        "  print(res)\n",
        "\n",
        "def pipi(modulestr):\n",
        "  res = subprocess.run(['pip', 'install', modulestr], stdout=subprocess.PIPE).stdout.decode('utf-8')\n",
        "  print(res)\n",
        "\n",
        "def pipie(modulestr):\n",
        "  res = subprocess.run(['git', 'install', '-e', modulestr], stdout=subprocess.PIPE).stdout.decode('utf-8')\n",
        "  print(res)\n",
        "\n",
        "def wget(url, outputdir):\n",
        "  res = subprocess.run(['wget', url, '-P', f'{outputdir}'], stdout=subprocess.PIPE).stdout.decode('utf-8')\n",
        "  print(res)\n",
        "\n",
        "import os\n",
        "root_path = os.getcwd()\n",
        "\n",
        "wget(\"https://github.com/lowfuel/DiscoDiffusion-Warp-gobig/blob/main/prompts.txt\", root_path)\n",
        "\n",
        "def createPath(filepath):\n",
        "    os.makedirs(filepath, exist_ok=True)\n"
      ]
    },
    {
      "cell_type": "code",
      "execution_count": null,
      "metadata": {
        "cellView": "form",
        "id": "InstallDeps"
      },
      "outputs": [],
      "source": [
        "#@title ### 1.3 Install and import dependencies\n",
        "\n",
        "import pathlib, shutil, os, sys\n",
        "\n",
        "if not is_colab:\n",
        "  # If running locally, there's a good chance your env will need this in order to not crash upon np.matmul() or similar operations.\n",
        "  os.environ['KMP_DUPLICATE_LIB_OK']='TRUE'\n",
        "\n",
        "PROJECT_DIR = os.path.abspath(os.getcwd())\n",
        "\n",
        "multipip_res = subprocess.run(['pip', 'install', 'lpips', 'datetime', 'timm', 'ftfy', 'einops', 'pytorch-lightning', 'omegaconf'], stdout=subprocess.PIPE).stdout.decode('utf-8')\n",
        "print(multipip_res)\n",
        "\n",
        "import os\n",
        "from os import path\n",
        "import sys\n",
        "from typing import final\n",
        "\n",
        "from attr import has\n",
        "from numpy import average\n",
        "import torch\n",
        "from torch import nn\n",
        "\n",
        "try:\n",
        "  from CLIP import clip\n",
        "except:\n",
        "  if not os.path.exists(\"CLIP\"):\n",
        "    gitclone(\"https://github.com/openai/CLIP\")\n",
        "  sys.path.append(f'{PROJECT_DIR}/CLIP')\n",
        "import gc\n",
        "from statistics import mean\n",
        "from PIL import Image, ImageOps\n",
        "import urllib.request, urllib.error, urllib.parse\n",
        "\n",
        "DEVICE = torch.device('cuda:0' if torch.cuda.is_available() else 'cpu')\n",
        "print('Using device:', DEVICE)\n",
        "device = DEVICE # At least one of the modules expects this name..\n",
        "\n",
        "if torch.cuda.get_device_capability(DEVICE) == (8,0): ## A100 fix thanks to Emad\n",
        "  print('Disabling CUDNN for A100 gpu', file=sys.stderr)\n",
        "  torch.backends.cudnn.enabled = False"
      ]
    },
    {
      "cell_type": "markdown",
      "metadata": {
        "id": "DiffClipSetTop"
      },
      "source": [
        "# 2. CLIP model settings"
      ]
    },
    {
      "cell_type": "code",
      "execution_count": null,
      "metadata": {
        "cellView": "form",
        "id": "ModelSettings"
      },
      "outputs": [],
      "source": [
        "ViTB32 = True #@param{type:\"boolean\"}\n",
        "ViTB16 = True #@param{type:\"boolean\"}\n",
        "ViTL14 = True #@param{type:\"boolean\"}\n",
        "ViTL14_336 = True #@param{type:\"boolean\"}\n",
        "RN101 = True #@param{type:\"boolean\"}\n",
        "RN50 = True #@param{type:\"boolean\"}\n",
        "RN50x4 = True #@param{type:\"boolean\"}\n",
        "RN50x16 = True #@param{type:\"boolean\"}\n",
        "RN50x64 = True #@param{type:\"boolean\"}\n",
        "\n",
        "modellist = []\n",
        "if RN50x64 == True: modellist.append('RN50x64')\n",
        "if ViTB16 == True: modellist.append('ViT-B/16')\n",
        "if ViTL14 == True: modellist.append('ViT-L/14')\n",
        "if ViTL14_336 == True: modellist.append('ViT-L/14@336px')\n",
        "if RN50 == True: modellist.append('RN50')\n",
        "if RN50x4 == True: modellist.append('RN50x4')\n",
        "if RN50x16 == True: modellist.append('RN50x16')\n",
        "if ViTB32 == True: modellist.append('ViT-B/32')\n",
        "if RN101 == True: modellist.append('RN101')\n",
        "\n",
        "def load_clip_model(model_name):\n",
        "    model, preprocess = clip.load(model_name, jit=False, device=device)\n",
        "    return model, preprocess\n",
        "\n",
        "def clipit_text(prompt, model):\n",
        "    text = model.encode_text(clip.tokenize(prompt).to(device)).float()\n",
        "    return text\n",
        "\n",
        "def clipit_image(im_prompt, model):\n",
        "    image = model.encode_image(im_prompt.to(device)).float()\n",
        "    return image\n",
        "\n",
        "def evalprompt_cos(t_prompt, t_comp):\n",
        "    #Get similarity between two tensors\n",
        "    cos = nn.CosineSimilarity(dim=1, eps=1e-6)\n",
        "    t_con = cos(t_prompt, t_comp)\n",
        "    similarity = t_con.item()\n",
        "    return similarity\n",
        "\n",
        "def Average(lst):\n",
        "    return sum(lst) / len(lst)\n",
        "\n",
        "def loadprompts(textfile):\n",
        "    prompts = []\n",
        "    with open(textfile, encoding=\"utf-8\") as f:\n",
        "        for line in f:\n",
        "            prompts.append(line.strip())\n",
        "    return(prompts)\n",
        "    \n",
        "def scoreprompts(evalprompt, images, prompts, modelname):\n",
        "    model, preprocess = load_clip_model(modelname)\n",
        "    scores = []\n",
        "    if evalprompt not in prompts:\n",
        "        prompts.append(evalprompt)\n",
        "    for prompt in prompts:\n",
        "        if len(images) > 0:\n",
        "            t_imgs = []\n",
        "            for image in images:\n",
        "                p_image = preprocess(image.unsqueeze(0).to(device))\n",
        "                t_img = clipit_image(p_image, model)\n",
        "                t_imgs.append(t_img) # our image tensors for this check\n",
        "            most_similar_prompt = \"\"\n",
        "            high_score = 0.0\n",
        "            prompt_scores = []\n",
        "            for checkprompt in prompts:\n",
        "                t_prompt = clipit_text(checkprompt, model)\n",
        "                for t_img in t_imgs:\n",
        "                    score = evalprompt_cos(t_prompt, t_img)\n",
        "                    if score > high_score:\n",
        "                        most_similar_prompt = (f'\"{checkprompt}\" at {score:.{3}}')\n",
        "                        high_score = score\n",
        "                    if checkprompt == prompt:\n",
        "                        prompt_scores.append(score)\n",
        "            final_score = Average(prompt_scores)\n",
        "            print(f'\"{prompt}\" scored {final_score:.{3}}, CLIP thought it was {most_similar_prompt}.')\n",
        "        else:\n",
        "            final_score = 0.0\n",
        "        scores.append(final_score)\n",
        "    return scores\n"
      ]
    },
    {
      "cell_type": "markdown",
      "metadata": {
        "id": "DiffuseTop"
      },
      "source": [
        "# 3. Enter prompt and select sample images"
      ]
    },
    {
      "cell_type": "code",
      "execution_count": null,
      "metadata": {
        "id": "vXJ-N_kH1u7C"
      },
      "outputs": [],
      "source": [
        "evalprompt = \"by Antony Carlyon\" #@param{type:\"string\"}\n",
        "\n",
        "image1 = \"\" #@param{type:\"string\"}\n",
        "image2 = \"\" #@param{type:\"string\"}\n",
        "image3 = \"\" #@param{type:\"string\"}\n",
        "image4 = \"\" #@param{type:\"string\"}"
      ]
    },
    {
      "cell_type": "markdown",
      "metadata": {},
      "source": [
        "# 4. RESULTS"
      ]
    },
    {
      "cell_type": "code",
      "execution_count": null,
      "metadata": {},
      "outputs": [],
      "source": [
        "images = []\n",
        "i1 = urllib.request.urlopen(image1).read()\n",
        "i2 = urllib.request.urlopen(image2).read()\n",
        "i3 = urllib.request.urlopen(image3).read()\n",
        "i4 = urllib.request.urlopen(image4).read()\n",
        "images.append(i1)\n",
        "images.append(i2)\n",
        "images.append(i3)\n",
        "images.append(i4)\n",
        "\n",
        "prompts = loadprompts(\"prompts.txt\")\n",
        "\n",
        "image_results = [] \n",
        "for image in images:\n",
        "    results = [] # tuple with evalprompt_score, best_scores, modelname\n",
        "    for modelname in modellist:\n",
        "        result = scoreprompts(evalprompt, image, prompts, modelname)\n",
        "        results.append(result)\n",
        "    image_results.append(results)\n",
        "\n",
        "print(image_results)"
      ]
    }
  ],
  "metadata": {
    "accelerator": "GPU",
    "anaconda-cloud": {},
    "colab": {
      "collapsed_sections": [
        "ChangelogTop"
      ],
      "include_colab_link": true,
      "machine_shape": "hm",
      "name": "Disco_Diffusion_v5_2_Warp_goBIG(1).ipynb",
      "private_outputs": true,
      "provenance": []
    },
    "kernelspec": {
      "display_name": "Python 3",
      "language": "python",
      "name": "python3"
    },
    "language_info": {
      "codemirror_mode": {
        "name": "ipython",
        "version": 3
      },
      "file_extension": ".py",
      "mimetype": "text/x-python",
      "name": "python",
      "nbconvert_exporter": "python",
      "pygments_lexer": "ipython3",
      "version": "3.6.1"
    }
  },
  "nbformat": 4,
  "nbformat_minor": 0
}
