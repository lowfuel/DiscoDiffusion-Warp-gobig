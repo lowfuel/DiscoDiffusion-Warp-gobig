{
  "cells": [
    {
      "cell_type": "markdown",
      "metadata": {
        "colab_type": "text",
        "id": "view-in-github"
      },
      "source": [
        "<a href=\"https://colab.research.google.com/github/lowfuel/DiscoDiffusion-Warp-gobig/blob/lowfuel/CLIP_Evaluator.ipynb\" target=\"_parent\"><img src=\"https://colab.research.google.com/assets/colab-badge.svg\" alt=\"Open In Colab\"/></a>"
      ]
    },
    {
      "cell_type": "markdown",
      "metadata": {
        "id": "TitleTop"
      },
      "source": [
        "# CLIP Artist Evaluator\n",
        "\n",
        "This notebook allows you to provide a sample of art, then have CLIP evaluate the images and tell you who it thinks the artist is.\n",
        "\n",
        "Please considering supporting me [Patreon](https://www.patreon.com/user?u=255893&fan_landing=true) to keep this notebook updated and improving. Thanks!"
      ]
    },
    {
      "cell_type": "markdown",
      "metadata": {
        "id": "CreditsChTop"
      },
      "source": [
        "### Credits & Changelog ⬇️"
      ]
    },
    {
      "cell_type": "markdown",
      "metadata": {
        "id": "Credits"
      },
      "source": [
        "#### Credits\n",
        "\n",
        "by Jason Hough (lowfuel)"
      ]
    },
    {
      "cell_type": "markdown",
      "metadata": {
        "id": "LicenseTop"
      },
      "source": [
        "#### License"
      ]
    },
    {
      "cell_type": "markdown",
      "metadata": {
        "id": "License"
      },
      "source": [
        "Licensed under the MIT License\n",
        "\n",
        "Copyright (c) 2022 Jason Hough \n",
        "\n",
        "Permission is hereby granted, free of charge, to any person obtaining a copy\n",
        "of this software and associated documentation files (the \"Software\"), to deal\n",
        "in the Software without restriction, including without limitation the rights\n",
        "to use, copy, modify, merge, publish, distribute, sublicense, and/or sell\n",
        "copies of the Software, and to permit persons to whom the Software is\n",
        "furnished to do so, subject to the following conditions:\n",
        "\n",
        "The above copyright notice and this permission notice shall be included in\n",
        "all copies or substantial portions of the Software.\n",
        "\n",
        "THE SOFTWARE IS PROVIDED \"AS IS\", WITHOUT WARRANTY OF ANY KIND, EXPRESS OR\n",
        "IMPLIED, INCLUDING BUT NOT LIMITED TO THE WARRANTIES OF MERCHANTABILITY,\n",
        "FITNESS FOR A PARTICULAR PURPOSE AND NONINFRINGEMENT. IN NO EVENT SHALL THE\n",
        "AUTHORS OR COPYRIGHT HOLDERS BE LIABLE FOR ANY CLAIM, DAMAGES OR OTHER\n",
        "LIABILITY, WHETHER IN AN ACTION OF CONTRACT, TORT OR OTHERWISE, ARISING FROM,\n",
        "OUT OF OR IN CONNECTION WITH THE SOFTWARE OR THE USE OR OTHER DEALINGS IN\n",
        "THE SOFTWARE."
      ]
    },
    {
      "cell_type": "markdown",
      "metadata": {
        "id": "SetupTop"
      },
      "source": [
        "# 1. Set Up"
      ]
    },
    {
      "cell_type": "code",
      "execution_count": null,
      "metadata": {
        "cellView": "form",
        "id": "CheckGPU"
      },
      "outputs": [],
      "source": [
        "#@title 1.1 Check GPU Status\n",
        "#@markdown Note: Works fine without GPU (just a bit slow)\n",
        "import subprocess\n",
        "simple_nvidia_smi_display = True#@param {type:\"boolean\"}\n",
        "if simple_nvidia_smi_display:\n",
        "  #!nvidia-smi\n",
        "  nvidiasmi_output = subprocess.run(['nvidia-smi', '-L'], stdout=subprocess.PIPE).stdout.decode('utf-8')\n",
        "  print(nvidiasmi_output)\n",
        "else:\n",
        "  #!nvidia-smi -i 0 -e 0\n",
        "  nvidiasmi_output = subprocess.run(['nvidia-smi'], stdout=subprocess.PIPE).stdout.decode('utf-8')\n",
        "  print(nvidiasmi_output)\n",
        "  nvidiasmi_ecc_note = subprocess.run(['nvidia-smi', '-i', '0', '-e', '0'], stdout=subprocess.PIPE).stdout.decode('utf-8')\n",
        "  print(nvidiasmi_ecc_note)"
      ]
    },
    {
      "cell_type": "code",
      "execution_count": null,
      "metadata": {
        "cellView": "form",
        "id": "PrepFolders"
      },
      "outputs": [],
      "source": [
        "#@title 1.2 Prepare Folders\n",
        "import subprocess, os, sys, ipykernel\n",
        "\n",
        "def gitclone(url):\n",
        "  res = subprocess.run(['git', 'clone', url], stdout=subprocess.PIPE).stdout.decode('utf-8')\n",
        "  print(res)\n",
        "\n",
        "def pipi(modulestr):\n",
        "  res = subprocess.run(['pip', 'install', modulestr], stdout=subprocess.PIPE).stdout.decode('utf-8')\n",
        "  print(res)\n",
        "\n",
        "def pipie(modulestr):\n",
        "  res = subprocess.run(['git', 'install', '-e', modulestr], stdout=subprocess.PIPE).stdout.decode('utf-8')\n",
        "  print(res)\n",
        "\n",
        "def wget(url, outputdir):\n",
        "  res = subprocess.run(['wget', url, '-P', f'{outputdir}'], stdout=subprocess.PIPE).stdout.decode('utf-8')\n",
        "  print(res)\n",
        "\n",
        "import os\n",
        "\n",
        "try:\n",
        "    from google.colab import drive\n",
        "    print(\"Google Colab detected. Using Google Drive.\")\n",
        "    is_colab = True\n",
        "    #@markdown If you connect your Google Drive, you can save the final image of each run on your drive.\n",
        "    google_drive = True #@param {type:\"boolean\"}\n",
        "    #@markdown Click here if you'd like to save the diffusion model checkpoint file to (and/or load from) your Google Drive:\n",
        "    save_models_to_google_drive = True #@param {type:\"boolean\"}\n",
        "except:\n",
        "    is_colab = False\n",
        "    google_drive = False\n",
        "    save_models_to_google_drive = False\n",
        "    print(\"Google Colab not detected.\")\n",
        "\n",
        "if is_colab:\n",
        "    if google_drive is True:\n",
        "        drive.mount('/content/drive')\n",
        "        root_path = '/content/drive/MyDrive/AI/Disco_Diffusion'\n",
        "    else:\n",
        "        root_path = '/content'\n",
        "else:\n",
        "    root_path = os.getcwd()\n",
        "\n",
        "import os\n",
        "def createPath(filepath):\n",
        "    os.makedirs(filepath, exist_ok=True)\n",
        "\n",
        "initDirPath = f'{root_path}/init_images'\n",
        "createPath(initDirPath)\n",
        "outDirPath = f'{root_path}/images_out'\n",
        "createPath(outDirPath)\n",
        "\n",
        "if is_colab:\n",
        "    if google_drive and not save_models_to_google_drive or not google_drive:\n",
        "        model_path = '/content/models'\n",
        "        createPath(model_path)\n",
        "    if google_drive and save_models_to_google_drive:\n",
        "        model_path = f'{root_path}/models'\n",
        "        createPath(model_path)\n",
        "else:\n",
        "    model_path = f'{root_path}/models'\n",
        "    createPath(model_path)\n",
        "\n",
        "if os.path.exists(f\"{root_path}/prompts.txt\"):\n",
        "  os.remove(f\"{root_path}/prompts.txt\")\n",
        "\n",
        "wget(\"https://raw.githubusercontent.com/lowfuel/DiscoDiffusion-Warp-gobig/lowfuel/prompts.txt\", root_path)\n",
        "\n",
        "def createPath(filepath):\n",
        "    os.makedirs(filepath, exist_ok=True)\n"
      ]
    },
    {
      "cell_type": "code",
      "execution_count": null,
      "metadata": {
        "cellView": "form",
        "id": "InstallDeps"
      },
      "outputs": [],
      "source": [
        "%%capture\n",
        "#@title ### 1.3 Install and import dependencies\n",
        "\n",
        "import pathlib, shutil, sys\n",
        "\n",
        "PROJECT_DIR = os.path.abspath(os.getcwd())\n",
        "\n",
        "multipip_res = subprocess.run(['pip', 'install', 'lpips', 'datetime', 'timm', 'ftfy', 'einops', 'pytorch-lightning', 'omegaconf' ], stdout=subprocess.PIPE).stdout.decode('utf-8')\n",
        "print(multipip_res)\n",
        "\n",
        "import os\n",
        "from os import path\n",
        "import sys\n",
        "import io\n",
        "\n",
        "from google.colab import files\n",
        "\n",
        "from attr import has\n",
        "from numpy import average\n",
        "import torch\n",
        "from torch import nn\n",
        "import ipywidgets as widgets\n",
        "from IPython.display import display, HTML\n",
        "import requests\n",
        "try:\n",
        "  from CLIP import clip\n",
        "except:\n",
        "  if not os.path.exists(\"CLIP\"):\n",
        "    gitclone(\"https://github.com/openai/CLIP\")\n",
        "  sys.path.append(f'{PROJECT_DIR}/CLIP')\n",
        "  from CLIP import clip\n",
        "import gc\n",
        "from statistics import mean\n",
        "from PIL import Image, ImageOps\n",
        "import urllib.request, urllib.error, urllib.parse\n",
        "from itertools import chain, islice\n",
        "import unicodedata\n",
        "\n",
        "DEVICE = torch.device('cuda:0' if torch.cuda.is_available() else 'cpu')\n",
        "print('Using device:', DEVICE)\n",
        "device = DEVICE # At least one of the modules expects this name..\n",
        "\n",
        "if 'cuda' in str(device):\n",
        "  if torch.cuda.get_device_capability(DEVICE) == (8,0): ## A100 fix thanks to Emad\n",
        "    print('Disabling CUDNN for A100 gpu', file=sys.stderr)\n",
        "    torch.backends.cudnn.enabled = False\n"
      ]
    },
    {
      "cell_type": "markdown",
      "metadata": {},
      "source": [
        "# 2. Select your CLIP models"
      ]
    },
    {
      "cell_type": "code",
      "execution_count": null,
      "metadata": {
        "cellView": "form",
        "id": "ModelSettings"
      },
      "outputs": [],
      "source": [
        "#@title ### 2.1 Enable Models\n",
        "#@markdown Selecting them all is fine, but will take longer to process.\n",
        "\n",
        "ViTB32 = True #@param{type:\"boolean\"}\n",
        "ViTB16 = False #@param{type:\"boolean\"}\n",
        "ViTL14 = False #@param{type:\"boolean\"}\n",
        "ViTL14_336 = True #@param{type:\"boolean\"}\n",
        "RN101 = False #@param{type:\"boolean\"}\n",
        "RN50 = True #@param{type:\"boolean\"}\n",
        "RN50x4 = False #@param{type:\"boolean\"}\n",
        "RN50x16 = False #@param{type:\"boolean\"}\n",
        "RN50x64 = True #@param{type:\"boolean\"}\n",
        "\n",
        "#@markdown Run stylistic similarity? (adds a few minutes to the evaluation)\n",
        "run_similarity = False #@param{type:\"boolean\"}\n",
        "\n",
        "#@markdown CLIP model to use for stylistic similarity:\n",
        "similarity_model = 'ViT-L/14@336px' #@param [\"ViT-B/32\", \"ViT-B/16\", \"ViT-L/14\", \"ViT-L/14@336px\", \"RN101\", \"RN50\", \"RN50x4\", \"RN50x16\", \"RN50x64\"]"
      ]
    },
    {
      "cell_type": "markdown",
      "metadata": {
        "id": "DiffuseTop"
      },
      "source": [
        "# 3. Configure Artist"
      ]
    },
    {
      "cell_type": "code",
      "execution_count": null,
      "metadata": {
        "id": "vXJ-N_kH1u7C"
      },
      "outputs": [],
      "source": [
        "#@title ### 3.1 Enter artist name\n",
        "#@markdown Which artist would you like to test?\n",
        "#@markdown Note: Leave blank if you don't know, or make up a name.\n",
        "evalprompt = \"Peter Mohrbacher\" #@param{type:\"string\"}\n",
        "\n",
        "#@title ### 3.2 Link to a sample piece of art\n",
        "#@markdown URL to a sample piece of art by this artist (PNG or JPEG is fine, ideally no bigger than 640x640)\n",
        "#uploaded = files.upload()\n",
        "sample_image = \"https://cdna.artstation.com/p/assets/images/images/016/964/598/smaller_square/peter-mohrbacher-israfel-visitf.jpg\" #@param{type:\"string\"}"
      ]
    },
    {
      "cell_type": "markdown",
      "metadata": {},
      "source": [
        "# 4. RESULTS"
      ]
    },
    {
      "cell_type": "code",
      "execution_count": null,
      "metadata": {},
      "outputs": [],
      "source": [
        "#@title ### 4.1 The Results will display here after processing. Be patient!\n",
        "\n",
        "modellist = []\n",
        "if ViTB32: modellist.append('ViT-B/32')\n",
        "if ViTB16: modellist.append('ViT-B/16')\n",
        "if ViTL14: modellist.append('ViT-L/14')\n",
        "if ViTL14_336: modellist.append('ViT-L/14@336px')\n",
        "if RN101: modellist.append('RN101')\n",
        "if RN50: modellist.append('RN50')\n",
        "if RN50x4: modellist.append('RN50x4')\n",
        "if RN50x16: modellist.append('RN50x16')\n",
        "if RN50x64: modellist.append('RN50x64')\n",
        "\n",
        "def fetch(url_or_path):\n",
        "    if str(url_or_path).startswith('http://') or str(url_or_path).startswith(\n",
        "            'https://'):\n",
        "        #print(f'Fetching {str(url_or_path)}. \\nThis might take a while... please wait.')\n",
        "        r = requests.get(url_or_path)\n",
        "        r.raise_for_status()\n",
        "        fd = io.BytesIO()\n",
        "        fd.write(r.content)\n",
        "        fd.seek(0)\n",
        "        return fd\n",
        "    return open(url_or_path, 'rb')\n",
        "\n",
        "def batch_iterable(iterable, n):\n",
        "    # yield (like return but remembers where it was) n items per request\n",
        "    it = iter(iterable)\n",
        "    for first in it:\n",
        "        yield list(chain([first], islice(it, n - 1)))\n",
        "\n",
        "def load_clip_model(model_name):\n",
        "    model, preprocess = clip.load(model_name, jit=False, download_root=model_path,device=device)\n",
        "    return model, preprocess\n",
        "\n",
        "def clipit_text(prompt, model):\n",
        "    text = model.encode_text(clip.tokenize(prompt).to(device)).float()\n",
        "    return text\n",
        "\n",
        "def clipit_image(im_prompt, model):\n",
        "    image = model.encode_image(im_prompt.to(device)).float()\n",
        "    return image\n",
        "\n",
        "def evalprompt_cos(t_prompt, t_comp):\n",
        "    #Get similarity between two tensors\n",
        "    cos = nn.CosineSimilarity(dim=1, eps=1e-6)\n",
        "    t_con = cos(t_prompt, t_comp)\n",
        "    similarity = t_con.item()\n",
        "    return similarity\n",
        "\n",
        "def match_prompts_to_image(image, prompts, model):\n",
        "    t_prompts = clip.tokenize(prompts).to(device)\n",
        "    with torch.no_grad():\n",
        "        logits_per_image, logits_per_text = model(image, t_prompts)\n",
        "        probs = logits_per_image.softmax(dim=-1).cpu().numpy()\n",
        "    return probs\n",
        "\n",
        "def loadprompts(textfile):\n",
        "    prompts = []\n",
        "    with open(textfile, encoding=\"utf-8\") as f:\n",
        "        for line in f:\n",
        "            prompts.append(line.strip())\n",
        "    return(prompts)\n",
        "    \n",
        "def scoreprompts(evalprompt, images, prompts, modelname):\n",
        "    model, preprocess = load_clip_model(modelname)\n",
        "    scores = []\n",
        "    #print(images[0])\n",
        "    test_image = preprocess(images[0]).unsqueeze(0).to(device)\n",
        "    probabilities = match_prompts_to_image(test_image, prompts, model)\n",
        "    problist = (probabilities.tolist())[0]\n",
        "    for count, prompt in enumerate(prompts):\n",
        "        prob = round(problist[count], 4)\n",
        "        if prob > 0.03 or prompt == evalprompt:\n",
        "            scores.append((prompt, prob))\n",
        "            #print(f'Probability: {prompt} - {prob}')\n",
        "    return scores\n",
        "\n",
        "def find_similar(evalprompt, images, prompts, model, preprocess):\n",
        "    t_prompts = []\n",
        "    stylistic_scores = []\n",
        "    results = []\n",
        "    most_stylistic = []\n",
        "    sample_image = preprocess(images[0]).unsqueeze(0).to(device)\n",
        "    t_image = clipit_image(sample_image, model)\n",
        "    for prompt in prompts:\n",
        "        t_prompt = clipit_text(prompt, model)\n",
        "        t_prompts.append((prompt, t_prompt))\n",
        "    for comparison, comp_prompt in t_prompts:\n",
        "        stylistic_score = evalprompt_cos(comp_prompt, t_image)\n",
        "        stylistic_scores.append((comparison, stylistic_score))\n",
        "    return stylistic_scores\n",
        "\n",
        "images = []\n",
        "images.append(Image.open(fetch(sample_image)))\n",
        "\n",
        "prescript = \"by\"\n",
        "\n",
        "raw_prompts = loadprompts((f\"{root_path}/prompts.txt\"))\n",
        "prompts = []\n",
        "post_prompts = []\n",
        "for prompt in raw_prompts:\n",
        "    prompts.append(prescript + \" \" + prompt)\n",
        "\n",
        "if (evalprompt) not in raw_prompts:\n",
        "    print('A new artist. Please let Lowfuel know so they can be added to the master comparison list!')\n",
        "    prompts.append(prescript + \" \" + evalprompt)\n",
        "\n",
        "print(\"Please stand by. Processing...\")\n",
        "result = (f'<h2>CLIP associations for this sample image:</h2>')\n",
        "\n",
        "#display(images[0])\n",
        "result += '<table><tr style=\"vertical-align:top\">'\n",
        "average = 0.0\n",
        "this_artist_score = []\n",
        "result += '<td><table>' # nested table for results\n",
        "for modelname in modellist:\n",
        "    print(f'Evaluating with {modelname}...')\n",
        "    result += (f'<tr><td><p><i>{modelname} thinks this sample is:</i></p>')\n",
        "    scores = scoreprompts((prescript + \" \" + evalprompt), images, prompts, modelname)\n",
        "    scores.sort(key=lambda a: a[1], reverse=True)\n",
        "    for score in scores:\n",
        "        name, percent = score\n",
        "        if name == (prescript + \" \" + evalprompt):\n",
        "            this_artist_score.append(percent)\n",
        "        # Bing doesn't like unicode text, so convert to ascii first\n",
        "        query = (unicodedata.normalize('NFKD', name).encode('ascii', 'ignore').decode())\n",
        "        query = query.split()\n",
        "        query ='+'.join(query) # replace the spaces in the query with + symbols\n",
        "        url = 'https://www.bing.com/images/search?q=' + query + '&qs=n&form=QBILPG&sp=-1&ghc=1'\n",
        "        html_with_link = (f'<p><a href=\"{url}\" target=\"_blank\" rel=\"noopener noreferrer\">{name}</a> (with {percent:.2%} certainty)</p>')\n",
        "        result += html_with_link\n",
        "    result += '</td></tr>'\n",
        "result +='</table>'\n",
        "result += (f'<td><img src={sample_image} width=\"320\"></td>')\n",
        "result +='</tr></table>'\n",
        "display(HTML(f'{result}'))\n",
        "average = mean(this_artist_score)\n",
        "print('')\n",
        "display(HTML(f'<p>Average confidence that this image was by {evalprompt}: <font size=\"+2\"><b>{average:.2%}</b></font></p>'))\n",
        "\n",
        "# check for cosine similarity if user wishes\n",
        "if run_similarity:\n",
        "    print(\"\")\n",
        "    print(\"Now finding stylistic matches, please wait...\")\n",
        "    style_matches = []\n",
        "    most_stylistic = []\n",
        "    for prompt_batch in batch_iterable(prompts, 128):\n",
        "        #speed this up by loading the clip model first, then just pass the model\n",
        "        model, preprocess = load_clip_model(similarity_model)\n",
        "        style_matches.append(find_similar((prescript + \" \" + evalprompt), images, prompt_batch, model, preprocess))\n",
        "    style_matches = style_matches[0]\n",
        "    style_matches.sort(key=lambda y: y[1], reverse=True)\n",
        "    for i in range(4):\n",
        "        name, score = style_matches[i]\n",
        "        most_stylistic.append(name)\n",
        "\n",
        "    result = '<h3>The four best stylistic matches to this sample, in order:</h3>'\n",
        "    for name in most_stylistic:\n",
        "        query = (unicodedata.normalize('NFKD', name).encode('ascii', 'ignore').decode())\n",
        "        query = query.split()\n",
        "        query ='+'.join(query) # replace the spaces in the query with + symbols\n",
        "        url = 'https://www.bing.com/images/search?q=' + query + '&qs=n&form=QBILPG&sp=-1&ghc=1'\n",
        "        html_with_link = (f'<p><a href=\"{url}\" target=\"_blank\" rel=\"noopener noreferrer\">{name}</a></p>')\n",
        "        result += html_with_link\n",
        "    display(HTML(f'{result}'))\n"
      ]
    }
  ],
  "metadata": {
    "accelerator": "GPU",
    "anaconda-cloud": {},
    "colab": {
      "collapsed_sections": [
        "ChangelogTop"
      ],
      "include_colab_link": true,
      "machine_shape": "hm",
      "name": "Disco_Diffusion_v5_2_Warp_goBIG(1).ipynb",
      "private_outputs": true,
      "provenance": []
    },
    "kernelspec": {
      "display_name": "Python 3.10.1 64-bit",
      "language": "python",
      "name": "python3"
    },
    "language_info": {
      "codemirror_mode": {
        "name": "ipython",
        "version": 3
      },
      "file_extension": ".py",
      "mimetype": "text/x-python",
      "name": "python",
      "nbconvert_exporter": "python",
      "pygments_lexer": "ipython3",
      "version": "3.10.1"
    },
    "vscode": {
      "interpreter": {
        "hash": "41cfd7462e767a04782d864d1a2e49c18a9932c3602fb466c3d05cf6a056fe41"
      }
    }
  },
  "nbformat": 4,
  "nbformat_minor": 0
}
